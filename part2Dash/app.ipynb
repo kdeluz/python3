{
 "cells": [
  {
   "cell_type": "code",
   "execution_count": null,
   "metadata": {
    "scrolled": true
   },
   "outputs": [],
   "source": [
    "# Only uncomment this if missing the dependencies.\n",
    "# !pip install dash pandas dash-table"
   ]
  },
  {
   "cell_type": "code",
   "execution_count": 1,
   "metadata": {},
   "outputs": [
    {
     "data": {
      "text/html": [
       "\n",
       "        <iframe\n",
       "            width=\"100%\"\n",
       "            height=\"650\"\n",
       "            src=\"http://127.0.0.1:8050/\"\n",
       "            frameborder=\"0\"\n",
       "            allowfullscreen\n",
       "            \n",
       "        ></iframe>\n",
       "        "
      ],
      "text/plain": [
       "<IPython.lib.display.IFrame at 0x7ffa11bfceb0>"
      ]
     },
     "metadata": {},
     "output_type": "display_data"
    }
   ],
   "source": [
    "# Import required libraries and modules that the app will use.\n",
    "import dash\n",
    "from dash import dcc, html\n",
    "from dash import dash_table\n",
    "import pandas as pd\n",
    "import requests\n",
    "import plotly.express as px\n",
    "\n",
    "# Fetch data from the API and convert it to a DataFrame\n",
    "url = \"https://data.winnipeg.ca/resource/6rcy-9uik.json\"\n",
    "response = requests.get(url)\n",
    "data = response.json()\n",
    "\n",
    "# Convert the data to a DataFrame\n",
    "df = pd.DataFrame(data)\n",
    "\n",
    "# Aggregate the data to count the number of addresses per collection day and convert it to a DataFrame\n",
    "df_count = df.groupby('collection_day').size().reset_index(name='count')\n",
    "\n",
    "# Initialize the Dash app\n",
    "app = dash.Dash(__name__)\n",
    "\n",
    "# Layout of the app including the data table and graph\n",
    "app.layout = html.Div([\n",
    "    html.H1(\"Winnipeg Recycling, Garbage, and Yard Waste Collection Days\"), # Title\n",
    "    \n",
    "    html.H2(\"Data Table\"), # Subtitle\n",
    "    dash_table.DataTable( # Data table\n",
    "        id='data-table', # ID\n",
    "        columns=[{\"name\": i, \"id\": i} for i in df.columns], # Column names\n",
    "        data=df.to_dict('records'), # Data\n",
    "        page_size=10, # This displays how many rows will be on the page at the top, so it'll be 10 rows.\n",
    "    ),\n",
    "\n",
    "    # This is the graph that will display the count of addresses per collection day.\n",
    "    html.H2(\"Collection Days Graph\"),\n",
    "    dcc.Graph(\n",
    "        id='data-graph',\n",
    "        figure=px.bar(df_count, x='collection_day', y='count', title='Count of Addresses per Collection Day', text='count')\n",
    "    )\n",
    "])\n",
    "\n",
    "# Run the app, and view it on http://127.0.0.1:8050/\n",
    "if __name__ == '__main__':\n",
    "    app.run_server(debug=True)"
   ]
  },
  {
   "cell_type": "code",
   "execution_count": null,
   "metadata": {},
   "outputs": [],
   "source": []
  }
 ],
 "metadata": {
  "kernelspec": {
   "display_name": "Python 3 (ipykernel)",
   "language": "python",
   "name": "python3"
  },
  "language_info": {
   "codemirror_mode": {
    "name": "ipython",
    "version": 3
   },
   "file_extension": ".py",
   "mimetype": "text/x-python",
   "name": "python",
   "nbconvert_exporter": "python",
   "pygments_lexer": "ipython3",
   "version": "3.10.12"
  }
 },
 "nbformat": 4,
 "nbformat_minor": 4
}
