{
 "cells": [
  {
   "cell_type": "code",
   "execution_count": 1,
   "id": "3e9bfce5-de0a-48da-a230-80de32457dd9",
   "metadata": {},
   "outputs": [
    {
     "name": "stdout",
     "output_type": "stream",
     "text": [
      "Defaulting to user installation because normal site-packages is not writeable\n",
      "Requirement already satisfied: Flask in /home/kdeluz/.local/lib/python3.10/site-packages (3.0.3)\n",
      "Requirement already satisfied: Pillow in /home/kdeluz/.local/lib/python3.10/site-packages (10.4.0)\n",
      "Requirement already satisfied: Werkzeug>=3.0.0 in /home/kdeluz/.local/lib/python3.10/site-packages (from Flask) (3.0.3)\n",
      "Requirement already satisfied: click>=8.1.3 in /home/kdeluz/.local/lib/python3.10/site-packages (from Flask) (8.1.7)\n",
      "Requirement already satisfied: itsdangerous>=2.1.2 in /home/kdeluz/.local/lib/python3.10/site-packages (from Flask) (2.2.0)\n",
      "Requirement already satisfied: Jinja2>=3.1.2 in /home/kdeluz/.local/lib/python3.10/site-packages (from Flask) (3.1.4)\n",
      "Requirement already satisfied: blinker>=1.6.2 in /home/kdeluz/.local/lib/python3.10/site-packages (from Flask) (1.8.2)\n",
      "Requirement already satisfied: MarkupSafe>=2.0 in /home/kdeluz/.local/lib/python3.10/site-packages (from Jinja2>=3.1.2->Flask) (2.1.5)\n",
      "Note: you may need to restart the kernel to use updated packages.\n"
     ]
    }
   ],
   "source": [
    "# !pip install Flask Pillow"
   ]
  },
  {
   "cell_type": "code",
   "execution_count": 3,
   "id": "d0f5cafe-0e00-4144-977c-3ff335ac9ab8",
   "metadata": {},
   "outputs": [
    {
     "name": "stderr",
     "output_type": "stream",
     "text": [
      "UsageError: Line magic function `%%writefile` not found.\n"
     ]
    }
   ],
   "source": [
    "# This is where the file is saved as an app.py file and then run with `python app.py` in the terminal or in the cell below.\n",
    "%%writefile app.py\n",
    "\n",
    "# Import the Flask module and create an instance of the Flask class.\n",
    "from flask import Flask, request, jsonify, send_file\n",
    "from PIL import Image\n",
    "import io\n",
    "import random\n",
    "\n",
    "app = Flask(__name__)\n",
    "\n",
    "# Define a route for the index page.\n",
    "@app.route('/')\n",
    "def index():\n",
    "    usage_instructions = \"\"\"\n",
    "    <h1>Welcome to my Assignment 3 Flask App!</h1>\n",
    "\n",
    "    <h2>Available Routes:</h2>\n",
    "    <ul>\n",
    "        <li><b>/ (GET):</b> Index page (You are here!)\n",
    "            <ul>\n",
    "                <li><b>Usage:</b> Visit the index page to see the usage instructions.</li>\n",
    "            </ul>\n",
    "        </li>\n",
    "        <li><b>/convert (POST):</b> Convert an image from one type to another.\n",
    "            <ul>\n",
    "                <li><b>Usage:</b> Send a POST request with 'image' (file) and 'output_type' (str) as form data.</li>\n",
    "                <li><b>Supported output types:</b> ['jpeg', 'png', 'gif']</li>\n",
    "            </ul>\n",
    "        </li>\n",
    "        <li><b>/random-number (GET):</b> Generate a random number within a given range.\n",
    "            <ul>\n",
    "                <li><b>Usage:</b> Send a GET request with 'min' and 'max' as query parameters.</li>\n",
    "            </ul>\n",
    "        </li>\n",
    "    </ul>\n",
    "    \"\"\"\n",
    "    return usage_instructions\n",
    "\n",
    "# Define a route for the convert image endpoint.\n",
    "@app.route('/convert', methods=['POST'])\n",
    "def convert_image():\n",
    "    # Check if the request is a POST request and if the image and output type are provided.\n",
    "    if 'image' not in request.files or 'output_type' not in request.form:\n",
    "        return jsonify({\"error\": \"Please provide the image file and output type\"}), 400\n",
    "\n",
    "    # Get the image file and output type from the request.\n",
    "    image_file = request.files['image']\n",
    "    output_type = request.form['output_type']\n",
    "\n",
    "    # Check if the output type is supported.\n",
    "    if output_type not in ['jpeg', 'png', 'gif']:\n",
    "        return jsonify({\"error\": \"This is an uunsupported output type\"}), 400\n",
    "    # Try to convert the image to the specified output type and return the converted image as a file.\n",
    "    try:\n",
    "        image = Image.open(image_file.stream) # Open the image file.\n",
    "        img_byte_arr = io.BytesIO() # Create a BytesIO object.\n",
    "        image.save(img_byte_arr, format=output_type.upper()) # Save the image to the BytesIO object.\n",
    "        img_byte_arr.seek(0) # Set the pointer to the beginning of the file.\n",
    "        return send_file(img_byte_arr, mimetype=f'image/{output_type}') # Return the converted image as a file.\n",
    "    except Exception as e: # If an error occurs, return the error message.\n",
    "        return jsonify({\"error\": str(e)}), 500\n",
    "\n",
    "# Define a route for the random number endpoint.\n",
    "@app.route('/random-number')\n",
    "def random_number():\n",
    "    min_val = request.args.get('min', default=0, type=int)\n",
    "    max_val = request.args.get('max', default=100, type=int)\n",
    "    if min_val > max_val:\n",
    "        return jsonify({\"error\": \"The min number should be less than or equal to max!\"}), 400\n",
    "\n",
    "    random_num = random.randint(min_val, max_val)\n",
    "    return jsonify({\"random_number\": random_num})\n",
    "\n",
    "if __name__ == '__main__':\n",
    "    app.run(debug=True)\n"
   ]
  },
  {
   "cell_type": "code",
   "execution_count": 2,
   "id": "93e51a5e-16e8-43a1-8196-56ae460fc2c0",
   "metadata": {},
   "outputs": [
    {
     "name": "stdout",
     "output_type": "stream",
     "text": [
      " * Serving Flask app 'app'\n",
      " * Debug mode: on\n",
      "\u001b[31m\u001b[1mWARNING: This is a development server. Do not use it in a production deployment. Use a production WSGI server instead.\u001b[0m\n",
      " * Running on http://127.0.0.1:5000\n",
      "\u001b[33mPress CTRL+C to quit\u001b[0m\n",
      " * Restarting with stat\n",
      " * Debugger is active!\n",
      " * Debugger PIN: 103-048-550\n",
      "127.0.0.1 - - [08/Jul/2024 18:34:28] \"GET /random-number?min=10&max=100 HTTP/1.1\" 200 -\n",
      "^C\n"
     ]
    }
   ],
   "source": [
    "# !python3 --version\n",
    "!python3 app.py"
   ]
  }
 ],
 "metadata": {
  "kernelspec": {
   "display_name": "Python 3 (ipykernel)",
   "language": "python",
   "name": "python3"
  },
  "language_info": {
   "codemirror_mode": {
    "name": "ipython",
    "version": 3
   },
   "file_extension": ".py",
   "mimetype": "text/x-python",
   "name": "python",
   "nbconvert_exporter": "python",
   "pygments_lexer": "ipython3",
   "version": "3.10.12"
  }
 },
 "nbformat": 4,
 "nbformat_minor": 5
}
